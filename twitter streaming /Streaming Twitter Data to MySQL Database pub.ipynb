{
 "cells": [
  {
   "cell_type": "markdown",
   "metadata": {},
   "source": [
    "### Streaming Twitter Data to MySQL Database"
   ]
  },
  {
   "cell_type": "markdown",
   "metadata": {},
   "source": [
    "  Twitter is one of the largest social media nowadays. And there are tons of information that can be collected if approached correctly. Unlike scraping other websites where hard-coding is necessary, Twitter provided Twitter API, making data scraping much more straightforward. This notebook searched Twitter containing specific keywords and stream them directly to the MySQL database. "
   ]
  },
  {
   "cell_type": "code",
   "execution_count": null,
   "metadata": {},
   "outputs": [],
   "source": [
    "import mysql.connector # no module named mysql: solution: conda install mysql-connector-python\n",
    "from mysql.connector import Error\n",
    "import tweepy\n",
    "import json\n",
    "import re"
   ]
  },
  {
   "cell_type": "markdown",
   "metadata": {},
   "source": [
    "### Step 1\n",
    "Connect to MySQL server and create a database named 'twitterdb'"
   ]
  },
  {
   "cell_type": "code",
   "execution_count": null,
   "metadata": {},
   "outputs": [],
   "source": [
    "mydb = mysql.connector.connect(\n",
    "  host=\"localhost\",\n",
    "  user=\"root\",\n",
    "  password=\"your sql server passcode\"\n",
    ")\n",
    "mycursor = mydb.cursor()\n",
    "mycursor.execute(\"CREATE DATABASE IF NOT EXISTS twitterdb\")"
   ]
  },
  {
   "cell_type": "markdown",
   "metadata": {},
   "source": [
    "### Step 2\n",
    "Create a table in 'twitterdb' database to store streamed data.\n",
    "\n",
    "Before creating a table in the database, it is essential to know that Twitter summarized all information related to a specific tweet into a JSON file. The JSON file is a list of key: value pairs that contain information about every field of that tweet, such as the tweet content, the time it was created, the user who posted that tweet, etc. (click the link for Twitter JSON example: https://www.sitepoint.com/twitter-json-example/). \n",
    "\n",
    "I am only interested in twitterid, username, userid, description, created_at, tweet, place, and location in this project. Therefore, the table 'Tag' in the ''twitterdb' database will be created accordingly.   "
   ]
  },
  {
   "cell_type": "code",
   "execution_count": null,
   "metadata": {},
   "outputs": [],
   "source": [
    "mydb = mysql.connector.connect(\n",
    "  host=\"localhost\",\n",
    "  user=\"root\",\n",
    "  password=\"your sql server passcode\",\n",
    "  database=\"twitterdb\"\n",
    ")\n",
    "cursor = mydb.cursor()\n",
    "cursor.execute(\"CREATE TABLE Tag (twitterid BIGINT, username VARCHAR(15),userid BIGINT, description VARCHAR(280), created_at VARCHAR(50), tweet VARCHAR(280), place VARCHAR(30), location VARCHAR(30))\")"
   ]
  },
  {
   "cell_type": "markdown",
   "metadata": {},
   "source": [
    "### Step 3\n",
    "The following blocks define functions/class about extract tweets using Twitter API and extract info from JSON file then stream to MySQL database. \n",
    "\n",
    "1. A function to insert twitter into database. "
   ]
  },
  {
   "cell_type": "code",
   "execution_count": null,
   "metadata": {},
   "outputs": [],
   "source": [
    "def connect(twitterid, username, userid, description, created_at, tweet, place, location):\n",
    "    \"\"\"\n",
    "    connect to MySQL database and insert twitter data\n",
    "    \"\"\"\n",
    "    try:\n",
    "        con = mysql.connector.connect(host = 'localhost',\n",
    "        database='twitterdb', user='root', password = 'your sql server passcode', charset = 'utf8')\n",
    "\n",
    "        if con.is_connected():\n",
    "            \"\"\"\n",
    "            Insert twitter data\n",
    "            \"\"\"\n",
    "            cursor = con.cursor()\n",
    "            # twitter, golf\n",
    "            query = \"INSERT INTO Tag (twitterid, username, userid, description, created_at, tweet, place, location) VALUES (%s, %s, %s, %s, %s, %s, %s, %s)\"\n",
    "            cursor.execute(query, (twitterid, username, userid, description, created_at, tweet, place, location))\n",
    "            con.commit()\n",
    "\n",
    "    except Error as e:\n",
    "        print(e)\n",
    "\n",
    "    cursor.close()\n",
    "    con.close()\n",
    "\n",
    "    return"
   ]
  },
  {
   "cell_type": "markdown",
   "metadata": {},
   "source": [
    "2. A function to remove emojis"
   ]
  },
  {
   "cell_type": "code",
   "execution_count": null,
   "metadata": {},
   "outputs": [],
   "source": [
    "def remove_emojis(data):\n",
    "    emoj = re.compile(\"[\"\n",
    "        u\"\\U0001F600-\\U0001F64F\"  # emoticons\n",
    "        u\"\\U0001F300-\\U0001F5FF\"  # symbols & pictographs\n",
    "        u\"\\U0001F680-\\U0001F6FF\"  # transport & map symbols\n",
    "        u\"\\U0001F1E0-\\U0001F1FF\"  # flags (iOS)\n",
    "        u\"\\U00002500-\\U00002BEF\"  # chinese char\n",
    "        u\"\\U00002702-\\U000027B0\"\n",
    "        u\"\\U00002702-\\U000027B0\"\n",
    "        u\"\\U000024C2-\\U0001F251\"\n",
    "        u\"\\U0001f926-\\U0001f937\"\n",
    "        u\"\\U00010000-\\U0010ffff\"\n",
    "        u\"\\u2640-\\u2642\" \n",
    "        u\"\\u2600-\\u2B55\"\n",
    "        u\"\\u200d\"\n",
    "        u\"\\u23cf\"\n",
    "        u\"\\u23e9\"\n",
    "        u\"\\u231a\"\n",
    "        u\"\\ufe0f\"  # dingbats\n",
    "        u\"\\u3030\"\n",
    "                      \"]+\", re.UNICODE)\n",
    "    return re.sub(emoj, '', data)"
   ]
  },
  {
   "cell_type": "markdown",
   "metadata": {},
   "source": [
    "3. Extract streamed tweets information then load to MySQL database."
   ]
  },
  {
   "cell_type": "code",
   "execution_count": null,
   "metadata": {},
   "outputs": [],
   "source": [
    "# Tweepy class to access Twitter API\n",
    "class Streamlistener(tweepy.StreamListener):\n",
    "\n",
    "    def on_connect(self):\n",
    "        print(\"You are connected to the Twitter API\")\n",
    "\n",
    "    def on_error(self):\n",
    "        if status_code != 200:\n",
    "            print(\"error found\")\n",
    "            # returning false disconnects the stream\n",
    "            return False\n",
    "\n",
    "    def on_data(self,data):\n",
    "        try:\n",
    "            raw_data = json.loads(data)\n",
    "\n",
    "            if 'text' in raw_data:\n",
    "\n",
    "                twitterid = raw_data['id']\n",
    "                username = remove_emojis(str(raw_data['user']['screen_name']))\n",
    "                userid = raw_data['user']['id']\n",
    "                description = remove_emojis(str(raw_data['user']['description']))\n",
    "                created_at = raw_data['created_at']\n",
    "                tweet = remove_emojis(str(raw_data['text']))\n",
    "\n",
    "                if raw_data['place'] is not None:\n",
    "                    place = remove_emojis(str(raw_data['place']['country']))\n",
    "                    #print(place)\n",
    "                else:\n",
    "                    place = None\n",
    "\n",
    "                location = remove_emojis(str(raw_data['user']['location']))\n",
    "\n",
    "                #insert data just collected into MySQL database\n",
    "                connect(twitterid, username, userid, description, created_at, tweet, place, location)\n",
    "        except Error as e:\n",
    "            print(e)\n"
   ]
  },
  {
   "cell_type": "markdown",
   "metadata": {},
   "source": [
    "### Step 4 Implement"
   ]
  },
  {
   "cell_type": "markdown",
   "metadata": {},
   "source": [
    "#### API keys and access tokens\n",
    "To access Twitter data through Twitter API, a Twitter Developer account (https://developer.twitter.com) is needed. Once you got the developer account and created at least one App, **API key, API secret key, Access Token, Access token secret** could be found by: 'your app' --> 'Details' --> 'Keys and tokens'."
   ]
  },
  {
   "cell_type": "code",
   "execution_count": null,
   "metadata": {},
   "outputs": [],
   "source": [
    "auth = tweepy.OAuthHandler(\"API key\",\n",
    "                           \"API secret key\")\n",
    "auth.set_access_token(\"Access Token\", \n",
    "                      \"Access token secret\")\n",
    "api = tweepy.API(auth, wait_on_rate_limit=True)"
   ]
  },
  {
   "cell_type": "markdown",
   "metadata": {},
   "source": [
    "#### Stream Twitter to MySQL\n",
    "\n",
    "Once a tweet contains one of ['python', 'java', 'c++' ,'AnimalCrossing', 'PokenmonGo'], it will be collected and streamed to Tag tabel Immediately. "
   ]
  },
  {
   "cell_type": "code",
   "execution_count": null,
   "metadata": {},
   "outputs": [],
   "source": [
    "listener = Streamlistener(api = api)\n",
    "stream = tweepy.Stream(auth, listener = listener)\n",
    "\n",
    "track = ['python', 'java', 'c++' ,'AnimalCrossing', 'PokenmonGo']\n",
    "\n",
    "# choose what we want to filter by\n",
    "stream.filter(track = track, languages = ['en'])"
   ]
  },
  {
   "cell_type": "code",
   "execution_count": null,
   "metadata": {},
   "outputs": [],
   "source": []
  },
  {
   "cell_type": "code",
   "execution_count": null,
   "metadata": {},
   "outputs": [],
   "source": []
  }
 ],
 "metadata": {
  "kernelspec": {
   "display_name": "Python 3",
   "language": "python",
   "name": "python3"
  },
  "language_info": {
   "codemirror_mode": {
    "name": "ipython",
    "version": 3
   },
   "file_extension": ".py",
   "mimetype": "text/x-python",
   "name": "python",
   "nbconvert_exporter": "python",
   "pygments_lexer": "ipython3",
   "version": "3.7.6"
  }
 },
 "nbformat": 4,
 "nbformat_minor": 4
}
